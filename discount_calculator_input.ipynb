{
 "cells": [
  {
   "cell_type": "markdown",
   "metadata": {},
   "source": [
    "# DISCOUNT CALCULATOR"
   ]
  },
  {
   "cell_type": "code",
   "execution_count": null,
   "metadata": {},
   "outputs": [],
   "source": [
    "from src.discount_calculator_2 import discount_calc\n",
    "\n",
    "# To ensure the function was loaded correctly,\n",
    "# the following command will print its documentation.\n",
    "\n",
    "help(discount_calc)"
   ]
  },
  {
   "cell_type": "code",
   "execution_count": null,
   "metadata": {},
   "outputs": [],
   "source": [
    "# Enter the values here. Don't add any sign (like $ or %).\n",
    "\n",
    "price = input(\"Enter the original price: \") # I.E.: 245.65. Use dots for decimals.\n",
    "\n",
    "discount = input(\"Enter the discount: \") # I.E.: 35. Only integers accepted.\n",
    "\n",
    "discounted_price = discount_calc(price, discount)\n",
    "print(\"\\n\")\n",
    "print(discounted_price)"
   ]
  }
 ],
 "metadata": {
  "kernelspec": {
   "display_name": "Python 3",
   "language": "python",
   "name": "python3"
  },
  "language_info": {
   "codemirror_mode": {
    "name": "ipython",
    "version": 3
   },
   "file_extension": ".py",
   "mimetype": "text/x-python",
   "name": "python",
   "nbconvert_exporter": "python",
   "pygments_lexer": "ipython3",
   "version": "3.7.4"
  }
 },
 "nbformat": 4,
 "nbformat_minor": 2
}
